{
 "cells": [
  {
   "cell_type": "markdown",
   "id": "7e5a059a",
   "metadata": {},
   "source": [
    "# Pandas Playbook of Time Series Data"
   ]
  },
  {
   "cell_type": "markdown",
   "id": "66f97314",
   "metadata": {},
   "source": [
    "**Date and Time Data Types and Tools**"
   ]
  },
  {
   "cell_type": "code",
   "execution_count": 3,
   "id": "08e53c4b",
   "metadata": {},
   "outputs": [
    {
     "data": {
      "text/plain": [
       "datetime.datetime(2023, 5, 2, 22, 34, 25, 712730)"
      ]
     },
     "execution_count": 3,
     "metadata": {},
     "output_type": "execute_result"
    }
   ],
   "source": [
    "# Importing required modules/libraries like pandas and numpy\n",
    "import pandas as pd\n",
    "import numpy as np\n",
    "\n",
    "# Importing time specific library named datetime\n",
    "from datetime import datetime\n",
    "\n",
    "# Fetching cuurent time (human readable timestamp) from system\n",
    "now = datetime.now()\n",
    "now"
   ]
  },
  {
   "cell_type": "code",
   "execution_count": 4,
   "id": "6c8bc542",
   "metadata": {},
   "outputs": [
    {
     "data": {
      "text/plain": [
       "(2023, 5, 2)"
      ]
     },
     "execution_count": 4,
     "metadata": {},
     "output_type": "execute_result"
    }
   ],
   "source": [
    "# Fetching the current year, month and day\n",
    "now.year,now.month,now.day"
   ]
  },
  {
   "cell_type": "code",
   "execution_count": 6,
   "id": "00851ac4",
   "metadata": {},
   "outputs": [
    {
     "data": {
      "text/plain": [
       "datetime.timedelta(days=30)"
      ]
     },
     "execution_count": 6,
     "metadata": {},
     "output_type": "execute_result"
    }
   ],
   "source": [
    "# Calculating the difference between two date using basic method\n",
    "delta = datetime(2023,5,2)-datetime(2023,4,2)\n",
    "delta"
   ]
  },
  {
   "cell_type": "code",
   "execution_count": 8,
   "id": "06e9765c",
   "metadata": {},
   "outputs": [
    {
     "data": {
      "text/plain": [
       "datetime.timedelta(days=29, seconds=55654)"
      ]
     },
     "execution_count": 8,
     "metadata": {},
     "output_type": "execute_result"
    }
   ],
   "source": [
    "# Calculating the difference between two timestamp using basic method\n",
    "# syntax: datetime(YYYY,MM,DD,HH,MM,SS)\n",
    "delta = datetime(2023,5,2, 11,24,56)-datetime(2023,4,2,19,57,22)\n",
    "delta"
   ]
  },
  {
   "cell_type": "code",
   "execution_count": 9,
   "id": "0957daed",
   "metadata": {},
   "outputs": [
    {
     "data": {
      "text/plain": [
       "(29, 55654)"
      ]
     },
     "execution_count": 9,
     "metadata": {},
     "output_type": "execute_result"
    }
   ],
   "source": [
    "# Fetching the difference in days and seconds separately\n",
    "delta.days,delta.seconds"
   ]
  },
  {
   "cell_type": "markdown",
   "id": "61f6c18f",
   "metadata": {},
   "source": [
    "**Arithmetic of Time (Addition and Substraction)**"
   ]
  },
  {
   "cell_type": "code",
   "execution_count": 14,
   "id": "369ecdfa",
   "metadata": {},
   "outputs": [
    {
     "data": {
      "text/plain": [
       "datetime.datetime(2023, 5, 6, 1, 32, 37)"
      ]
     },
     "execution_count": 14,
     "metadata": {},
     "output_type": "execute_result"
    }
   ],
   "source": [
    "# Fetching timedelta library for time series arithmetic\n",
    "# syntax: timedelta(DD,SS)\n",
    "# Addition\n",
    "from datetime import timedelta\n",
    "start = datetime(2023,4,24)\n",
    "end = start + timedelta(12,5557)\n",
    "end"
   ]
  },
  {
   "cell_type": "code",
   "execution_count": 16,
   "id": "bcff6ab3",
   "metadata": {},
   "outputs": [
    {
     "data": {
      "text/plain": [
       "datetime.datetime(2023, 3, 29, 21, 39, 3)"
      ]
     },
     "execution_count": 16,
     "metadata": {},
     "output_type": "execute_result"
    }
   ],
   "source": [
    "# Substraction\n",
    "from datetime import timedelta\n",
    "start = datetime(2023,4,24)\n",
    "end = start - timedelta(25,8457)\n",
    "end"
   ]
  },
  {
   "cell_type": "markdown",
   "id": "84cb6681",
   "metadata": {},
   "source": [
    "**Converting Between String and Datetime**"
   ]
  },
  {
   "cell_type": "code",
   "execution_count": 17,
   "id": "c5fb61bd",
   "metadata": {},
   "outputs": [
    {
     "data": {
      "text/plain": [
       "'2023-04-25 00:00:00'"
      ]
     },
     "execution_count": 17,
     "metadata": {},
     "output_type": "execute_result"
    }
   ],
   "source": [
    "# Converting date-timestamp to string \n",
    "timestamp = datetime(2023,4,25)\n",
    "str(timestamp)"
   ]
  },
  {
   "cell_type": "code",
   "execution_count": 39,
   "id": "a31f5140",
   "metadata": {},
   "outputs": [
    {
     "name": "stdout",
     "output_type": "stream",
     "text": [
      "2023-04-25\n",
      "23-04-25\n",
      "2\n",
      "17\n",
      "17\n",
      "04/25/23\n",
      "Tue\n",
      "Tuesday\n",
      "Apr\n",
      "April\n",
      "Tue Apr 25 00:00:00 2023\n"
     ]
    }
   ],
   "source": [
    "# Converting date-timestamp to string in desired format using strftime function\n",
    "#format: YYYY-MM-DD\n",
    "timestamp = datetime(2023,4,25)\n",
    "print(timestamp.strftime('%Y-%m-%d'))\n",
    "\n",
    "#format: YY-MM-DD\n",
    "timestamp = datetime(2023,4,25)\n",
    "print(timestamp.strftime('%y-%m-%d'))\n",
    "\n",
    "#format: Weekday as Integer[0(Sunday),6(Saturday)]\n",
    "timestamp = datetime(2023,4,25)\n",
    "print(timestamp.strftime('%w'))\n",
    "\n",
    "#format: Week of the year considering Monday as first day of the week\n",
    "timestamp = datetime(2023,4,25)\n",
    "print(timestamp.strftime('%W'))\n",
    "\n",
    "#format: Week of the year considering Sunday as first day of the week\n",
    "timestamp = datetime(2023,4,25)\n",
    "print(timestamp.strftime('%U'))\n",
    "\n",
    "#format: %m/%d/%y\n",
    "timestamp = datetime(2023,4,25)\n",
    "print(timestamp.strftime('%D'))\n",
    "\n",
    "#format: Abbreviated Weekday Name\n",
    "timestamp = datetime(2023,4,25)\n",
    "print(timestamp.strftime('%a'))\n",
    "\n",
    "#format: Full Weekday Name\n",
    "timestamp = datetime(2023,4,25)\n",
    "print(timestamp.strftime('%A'))\n",
    "\n",
    "#format: Abbreviated Month Name\n",
    "timestamp = datetime(2023,4,25)\n",
    "print(timestamp.strftime('%b'))\n",
    "\n",
    "#format: Full Month Name\n",
    "timestamp = datetime(2023,4,25)\n",
    "print(timestamp.strftime('%B'))\n",
    "\n",
    "#format: Full date and time (e.g., ‘Tue 01 May 2012 04:20:57 PM’)\n",
    "timestamp = datetime(2023,4,25)\n",
    "print(timestamp.strftime('%c'))"
   ]
  },
  {
   "cell_type": "code",
   "execution_count": 40,
   "id": "6d076f80",
   "metadata": {},
   "outputs": [
    {
     "name": "stdout",
     "output_type": "stream",
     "text": [
      "2023-04-25 00:00:00\n"
     ]
    }
   ],
   "source": [
    "# Converting string to date-timestamp in desired format using strptime function\n",
    "\n",
    "#format: YYYY-MM-DD\n",
    "value = '2023-04-25'\n",
    "print(datetime.strptime(value,'%Y-%m-%d'))"
   ]
  },
  {
   "cell_type": "markdown",
   "id": "426093ea",
   "metadata": {},
   "source": [
    "**Time Series Basics**"
   ]
  },
  {
   "cell_type": "code",
   "execution_count": 41,
   "id": "61f8c7b6",
   "metadata": {},
   "outputs": [
    {
     "data": {
      "text/plain": [
       "2022-01-01    0.488721\n",
       "2022-01-02   -0.374083\n",
       "2022-01-03   -0.899246\n",
       "2022-01-04    0.242976\n",
       "2022-01-05    0.060704\n",
       "2022-01-06    1.252940\n",
       "dtype: float64"
      ]
     },
     "execution_count": 41,
     "metadata": {},
     "output_type": "execute_result"
    }
   ],
   "source": [
    "# Creating a series of data with datetime index\n",
    "\n",
    "from datetime import datetime \n",
    "dates = [datetime(2022,1,1),datetime(2022,1,2),datetime(2022,1,3),datetime(2022,1,4),datetime(2022,1,5),datetime(2022,1,6)]\n",
    "value = np.random.randn(6)\n",
    "ts = pd.Series(value,index=dates)\n",
    "ts"
   ]
  },
  {
   "cell_type": "code",
   "execution_count": 42,
   "id": "a1a146f5",
   "metadata": {},
   "outputs": [
    {
     "data": {
      "text/plain": [
       "2022-01-01    0.488721\n",
       "2022-01-03   -0.899246\n",
       "2022-01-05    0.060704\n",
       "dtype: float64"
      ]
     },
     "execution_count": 42,
     "metadata": {},
     "output_type": "execute_result"
    }
   ],
   "source": [
    "# fetching every next entries from the series\n",
    "ts[::2]"
   ]
  },
  {
   "cell_type": "code",
   "execution_count": 43,
   "id": "45f32bb1",
   "metadata": {},
   "outputs": [
    {
     "data": {
      "text/plain": [
       "2022-01-06    1.252940\n",
       "2022-01-05    0.060704\n",
       "2022-01-04    0.242976\n",
       "2022-01-03   -0.899246\n",
       "2022-01-02   -0.374083\n",
       "2022-01-01    0.488721\n",
       "dtype: float64"
      ]
     },
     "execution_count": 43,
     "metadata": {},
     "output_type": "execute_result"
    }
   ],
   "source": [
    "# fetching entries in reverse order from the series\n",
    "ts[::-1]"
   ]
  },
  {
   "cell_type": "code",
   "execution_count": 46,
   "id": "f3a29618",
   "metadata": {},
   "outputs": [
    {
     "data": {
      "text/plain": [
       "Timestamp('2022-01-05 00:00:00')"
      ]
     },
     "execution_count": 46,
     "metadata": {},
     "output_type": "execute_result"
    }
   ],
   "source": [
    "# fetching entries basis index\n",
    "ts.index[4]"
   ]
  },
  {
   "cell_type": "markdown",
   "id": "8c5dd018",
   "metadata": {},
   "source": [
    "**Indexing Selection and Subsetting**"
   ]
  },
  {
   "cell_type": "code",
   "execution_count": 50,
   "id": "fbf1c455",
   "metadata": {},
   "outputs": [
    {
     "name": "stdout",
     "output_type": "stream",
     "text": [
      "-0.8992464786133106\n",
      "0.4887213021923395\n"
     ]
    }
   ],
   "source": [
    "# fetching entries using index\n",
    "stamp = ts.index[2]\n",
    "print(ts[stamp])\n",
    "\n",
    "# fetching entries using index values\n",
    "print(ts['1/1/2022'])"
   ]
  },
  {
   "cell_type": "code",
   "execution_count": 52,
   "id": "bf02703b",
   "metadata": {},
   "outputs": [
    {
     "data": {
      "text/plain": [
       "2022-01-01   -0.082580\n",
       "2022-01-02   -0.267126\n",
       "2022-01-03    0.462575\n",
       "2022-01-04   -0.703955\n",
       "2022-01-05   -2.296333\n",
       "                ...   \n",
       "2023-05-11    2.115001\n",
       "2023-05-12   -0.399202\n",
       "2023-05-13    0.127381\n",
       "2023-05-14    0.966112\n",
       "2023-05-15   -0.812335\n",
       "Freq: D, Length: 500, dtype: float64"
      ]
     },
     "execution_count": 52,
     "metadata": {},
     "output_type": "execute_result"
    }
   ],
   "source": [
    "# creating long time series data \n",
    "date_range = pd.date_range('1/1/2022', periods=500)\n",
    "values = np.random.randn(500)\n",
    "data = pd.Series(values, index=date_range)\n",
    "data"
   ]
  },
  {
   "cell_type": "code",
   "execution_count": 54,
   "id": "32a48da9",
   "metadata": {},
   "outputs": [
    {
     "data": {
      "text/plain": [
       "2022-01-01   -0.082580\n",
       "2022-01-02   -0.267126\n",
       "2022-01-03    0.462575\n",
       "2022-01-04   -0.703955\n",
       "2022-01-05   -2.296333\n",
       "                ...   \n",
       "2022-12-27    0.607859\n",
       "2022-12-28    0.429282\n",
       "2022-12-29    1.090347\n",
       "2022-12-30    0.037276\n",
       "2022-12-31   -0.519796\n",
       "Freq: D, Length: 365, dtype: float64"
      ]
     },
     "execution_count": 54,
     "metadata": {},
     "output_type": "execute_result"
    }
   ],
   "source": [
    "# fetching data basis the year\n",
    "data['2022']"
   ]
  },
  {
   "cell_type": "code",
   "execution_count": 55,
   "id": "161b5227",
   "metadata": {},
   "outputs": [
    {
     "data": {
      "text/plain": [
       "2022-05-01   -0.592017\n",
       "2022-05-02   -1.719118\n",
       "2022-05-03    1.918584\n",
       "2022-05-04    0.730886\n",
       "2022-05-05   -0.828199\n",
       "2022-05-06    0.706759\n",
       "2022-05-07    0.957560\n",
       "2022-05-08   -0.922862\n",
       "2022-05-09   -0.493969\n",
       "2022-05-10   -1.397988\n",
       "2022-05-11    0.581185\n",
       "2022-05-12   -1.135315\n",
       "2022-05-13    0.447973\n",
       "2022-05-14    0.504513\n",
       "2022-05-15    0.740292\n",
       "2022-05-16   -0.074889\n",
       "2022-05-17   -0.805289\n",
       "2022-05-18   -1.312182\n",
       "2022-05-19   -1.473844\n",
       "2022-05-20    0.394513\n",
       "2022-05-21    1.076669\n",
       "2022-05-22   -0.543890\n",
       "2022-05-23   -0.359323\n",
       "2022-05-24   -0.867117\n",
       "2022-05-25    1.389191\n",
       "2022-05-26   -0.527040\n",
       "2022-05-27   -1.807867\n",
       "2022-05-28    1.136440\n",
       "2022-05-29   -0.181894\n",
       "2022-05-30   -0.875220\n",
       "2022-05-31    0.701121\n",
       "Freq: D, dtype: float64"
      ]
     },
     "execution_count": 55,
     "metadata": {},
     "output_type": "execute_result"
    }
   ],
   "source": [
    "# fetching data basis the year-month\n",
    "data['2022-05']"
   ]
  },
  {
   "cell_type": "code",
   "execution_count": 56,
   "id": "ff8de0e5",
   "metadata": {},
   "outputs": [
    {
     "data": {
      "text/plain": [
       "2022-10-01   -0.470543\n",
       "2022-10-02   -1.187508\n",
       "2022-10-03    1.867044\n",
       "2022-10-04   -0.635950\n",
       "2022-10-05   -0.097110\n",
       "                ...   \n",
       "2023-05-11    2.115001\n",
       "2023-05-12   -0.399202\n",
       "2023-05-13    0.127381\n",
       "2023-05-14    0.966112\n",
       "2023-05-15   -0.812335\n",
       "Freq: D, Length: 227, dtype: float64"
      ]
     },
     "execution_count": 56,
     "metadata": {},
     "output_type": "execute_result"
    }
   ],
   "source": [
    "# slicing with datetime\n",
    "data[datetime(2022,10,1):]"
   ]
  },
  {
   "cell_type": "code",
   "execution_count": 59,
   "id": "7fe07234",
   "metadata": {},
   "outputs": [
    {
     "data": {
      "text/plain": [
       "2022-10-01   -0.470543\n",
       "2022-10-02   -1.187508\n",
       "2022-10-03    1.867044\n",
       "2022-10-04   -0.635950\n",
       "2022-10-05   -0.097110\n",
       "                ...   \n",
       "2023-02-16    0.955295\n",
       "2023-02-17    0.055366\n",
       "2023-02-18   -1.901006\n",
       "2023-02-19   -1.333325\n",
       "2023-02-20    0.241974\n",
       "Freq: D, Length: 143, dtype: float64"
      ]
     },
     "execution_count": 59,
     "metadata": {},
     "output_type": "execute_result"
    }
   ],
   "source": [
    "# slicing with datetime between two date ranges\n",
    "data[datetime(2022,10,1):datetime(2023,2,20)]"
   ]
  },
  {
   "cell_type": "markdown",
   "id": "367056e7",
   "metadata": {},
   "source": [
    "**Date Ranges, Frequencies and Shifting**"
   ]
  },
  {
   "cell_type": "code",
   "execution_count": 61,
   "id": "dd590cd7",
   "metadata": {},
   "outputs": [
    {
     "data": {
      "text/plain": [
       "DatetimeIndex(['2022-01-01', '2022-01-02', '2022-01-03', '2022-01-04',\n",
       "               '2022-01-05', '2022-01-06', '2022-01-07', '2022-01-08',\n",
       "               '2022-01-09', '2022-01-10',\n",
       "               ...\n",
       "               '2022-12-23', '2022-12-24', '2022-12-25', '2022-12-26',\n",
       "               '2022-12-27', '2022-12-28', '2022-12-29', '2022-12-30',\n",
       "               '2022-12-31', '2023-01-01'],\n",
       "              dtype='datetime64[ns]', length=366, freq='D')"
      ]
     },
     "execution_count": 61,
     "metadata": {},
     "output_type": "execute_result"
    }
   ],
   "source": [
    "# Generatimg Date Ranges\n",
    "df = pd.date_range('2022-01-01','2023-01-01')\n",
    "df"
   ]
  },
  {
   "cell_type": "code",
   "execution_count": 64,
   "id": "3c555457",
   "metadata": {},
   "outputs": [
    {
     "data": {
      "text/plain": [
       "DatetimeIndex(['2022-01-01', '2022-01-02', '2022-01-03', '2022-01-04',\n",
       "               '2022-01-05', '2022-01-06', '2022-01-07', '2022-01-08',\n",
       "               '2022-01-09', '2022-01-10', '2022-01-11', '2022-01-12',\n",
       "               '2022-01-13', '2022-01-14', '2022-01-15', '2022-01-16',\n",
       "               '2022-01-17', '2022-01-18', '2022-01-19', '2022-01-20',\n",
       "               '2022-01-21', '2022-01-22', '2022-01-23', '2022-01-24',\n",
       "               '2022-01-25', '2022-01-26', '2022-01-27', '2022-01-28',\n",
       "               '2022-01-29', '2022-01-30', '2022-01-31', '2022-02-01',\n",
       "               '2022-02-02', '2022-02-03', '2022-02-04', '2022-02-05',\n",
       "               '2022-02-06', '2022-02-07', '2022-02-08', '2022-02-09',\n",
       "               '2022-02-10', '2022-02-11', '2022-02-12', '2022-02-13',\n",
       "               '2022-02-14', '2022-02-15', '2022-02-16', '2022-02-17',\n",
       "               '2022-02-18', '2022-02-19'],\n",
       "              dtype='datetime64[ns]', freq='D')"
      ]
     },
     "execution_count": 64,
     "metadata": {},
     "output_type": "execute_result"
    }
   ],
   "source": [
    "# Generatimg Date Ranges for n periods (days) with start date\n",
    "df = pd.date_range(start='2022-01-01',periods=50)\n",
    "df"
   ]
  },
  {
   "cell_type": "code",
   "execution_count": 65,
   "id": "030d56af",
   "metadata": {},
   "outputs": [
    {
     "data": {
      "text/plain": [
       "DatetimeIndex(['2021-11-13', '2021-11-14', '2021-11-15', '2021-11-16',\n",
       "               '2021-11-17', '2021-11-18', '2021-11-19', '2021-11-20',\n",
       "               '2021-11-21', '2021-11-22', '2021-11-23', '2021-11-24',\n",
       "               '2021-11-25', '2021-11-26', '2021-11-27', '2021-11-28',\n",
       "               '2021-11-29', '2021-11-30', '2021-12-01', '2021-12-02',\n",
       "               '2021-12-03', '2021-12-04', '2021-12-05', '2021-12-06',\n",
       "               '2021-12-07', '2021-12-08', '2021-12-09', '2021-12-10',\n",
       "               '2021-12-11', '2021-12-12', '2021-12-13', '2021-12-14',\n",
       "               '2021-12-15', '2021-12-16', '2021-12-17', '2021-12-18',\n",
       "               '2021-12-19', '2021-12-20', '2021-12-21', '2021-12-22',\n",
       "               '2021-12-23', '2021-12-24', '2021-12-25', '2021-12-26',\n",
       "               '2021-12-27', '2021-12-28', '2021-12-29', '2021-12-30',\n",
       "               '2021-12-31', '2022-01-01'],\n",
       "              dtype='datetime64[ns]', freq='D')"
      ]
     },
     "execution_count": 65,
     "metadata": {},
     "output_type": "execute_result"
    }
   ],
   "source": [
    "# Generatimg Date Ranges for n periods (days) with end date\n",
    "df = pd.date_range(end='2022-01-01',periods=50)\n",
    "df"
   ]
  },
  {
   "cell_type": "code",
   "execution_count": 67,
   "id": "2c0e6b3a",
   "metadata": {},
   "outputs": [
    {
     "data": {
      "text/plain": [
       "DatetimeIndex(['2023-01-01', '2023-01-02', '2023-01-03', '2023-01-04',\n",
       "               '2023-01-05', '2023-01-06', '2023-01-07', '2023-01-08',\n",
       "               '2023-01-09', '2023-01-10'],\n",
       "              dtype='datetime64[ns]', freq='D')"
      ]
     },
     "execution_count": 67,
     "metadata": {},
     "output_type": "execute_result"
    }
   ],
   "source": [
    "# Generatimg Date Ranges for n periods (days) with defined frequencies\n",
    "# frequency: Days\n",
    "df = pd.date_range(start='2023-01-01',periods=10, freq='D' )\n",
    "df"
   ]
  },
  {
   "cell_type": "code",
   "execution_count": 68,
   "id": "5ad23231",
   "metadata": {},
   "outputs": [
    {
     "data": {
      "text/plain": [
       "DatetimeIndex(['2023-01-02', '2023-01-03', '2023-01-04', '2023-01-05',\n",
       "               '2023-01-06', '2023-01-09', '2023-01-10', '2023-01-11',\n",
       "               '2023-01-12', '2023-01-13'],\n",
       "              dtype='datetime64[ns]', freq='B')"
      ]
     },
     "execution_count": 68,
     "metadata": {},
     "output_type": "execute_result"
    }
   ],
   "source": [
    "# Generatimg Date Ranges for n periods (days) with defined frequencies\n",
    "# frequency: Business Days\n",
    "df = pd.date_range(start='2023-01-01',periods=10, freq='B' )\n",
    "df"
   ]
  },
  {
   "cell_type": "code",
   "execution_count": 71,
   "id": "9ac23525",
   "metadata": {},
   "outputs": [
    {
     "data": {
      "text/plain": [
       "DatetimeIndex(['2023-01-01 00:00:00', '2023-01-01 01:00:00',\n",
       "               '2023-01-01 02:00:00', '2023-01-01 03:00:00',\n",
       "               '2023-01-01 04:00:00', '2023-01-01 05:00:00',\n",
       "               '2023-01-01 06:00:00', '2023-01-01 07:00:00',\n",
       "               '2023-01-01 08:00:00', '2023-01-01 09:00:00'],\n",
       "              dtype='datetime64[ns]', freq='H')"
      ]
     },
     "execution_count": 71,
     "metadata": {},
     "output_type": "execute_result"
    }
   ],
   "source": [
    "# Generatimg Date Ranges for n periods (days) with defined frequencies\n",
    "# frequency: Hours\n",
    "df = pd.date_range(start='2023-01-01',periods=10, freq='H' )\n",
    "df"
   ]
  },
  {
   "cell_type": "code",
   "execution_count": 69,
   "id": "ac8cb7bf",
   "metadata": {},
   "outputs": [
    {
     "data": {
      "text/plain": [
       "DatetimeIndex(['2023-01-01 00:00:00', '2023-01-01 00:01:00',\n",
       "               '2023-01-01 00:02:00', '2023-01-01 00:03:00',\n",
       "               '2023-01-01 00:04:00', '2023-01-01 00:05:00',\n",
       "               '2023-01-01 00:06:00', '2023-01-01 00:07:00',\n",
       "               '2023-01-01 00:08:00', '2023-01-01 00:09:00'],\n",
       "              dtype='datetime64[ns]', freq='T')"
      ]
     },
     "execution_count": 69,
     "metadata": {},
     "output_type": "execute_result"
    }
   ],
   "source": [
    "# Generatimg Date Ranges for n periods (days) with defined frequencies\n",
    "# frequency: Minutes\n",
    "df = pd.date_range(start='2023-01-01',periods=10, freq='T' )\n",
    "df"
   ]
  },
  {
   "cell_type": "code",
   "execution_count": 70,
   "id": "3286998f",
   "metadata": {},
   "outputs": [
    {
     "data": {
      "text/plain": [
       "DatetimeIndex(['2023-01-01 00:00:00', '2023-01-01 00:00:01',\n",
       "               '2023-01-01 00:00:02', '2023-01-01 00:00:03',\n",
       "               '2023-01-01 00:00:04', '2023-01-01 00:00:05',\n",
       "               '2023-01-01 00:00:06', '2023-01-01 00:00:07',\n",
       "               '2023-01-01 00:00:08', '2023-01-01 00:00:09'],\n",
       "              dtype='datetime64[ns]', freq='S')"
      ]
     },
     "execution_count": 70,
     "metadata": {},
     "output_type": "execute_result"
    }
   ],
   "source": [
    "# Generatimg Date Ranges for n periods (days) with defined frequencies\n",
    "# frequency: Seconds\n",
    "df = pd.date_range(start='2023-01-01',periods=10, freq='S' )\n",
    "df"
   ]
  },
  {
   "cell_type": "code",
   "execution_count": 72,
   "id": "dec740d5",
   "metadata": {},
   "outputs": [
    {
     "data": {
      "text/plain": [
       "DatetimeIndex(['2023-01-31', '2023-02-28', '2023-03-31', '2023-04-30',\n",
       "               '2023-05-31', '2023-06-30', '2023-07-31', '2023-08-31',\n",
       "               '2023-09-30', '2023-10-31'],\n",
       "              dtype='datetime64[ns]', freq='M')"
      ]
     },
     "execution_count": 72,
     "metadata": {},
     "output_type": "execute_result"
    }
   ],
   "source": [
    "# Generatimg Date Ranges for n periods (days) with defined frequencies\n",
    "# frequency: MonthEnd\n",
    "df = pd.date_range(start='2023-01-01',periods=10, freq='M' )\n",
    "df"
   ]
  },
  {
   "cell_type": "code",
   "execution_count": 73,
   "id": "c025d074",
   "metadata": {},
   "outputs": [
    {
     "data": {
      "text/plain": [
       "DatetimeIndex(['2023-01-31', '2023-02-28', '2023-03-31', '2023-04-28',\n",
       "               '2023-05-31', '2023-06-30', '2023-07-31', '2023-08-31',\n",
       "               '2023-09-29', '2023-10-31'],\n",
       "              dtype='datetime64[ns]', freq='BM')"
      ]
     },
     "execution_count": 73,
     "metadata": {},
     "output_type": "execute_result"
    }
   ],
   "source": [
    "# Generatimg Date Ranges for n periods (days) with defined frequencies\n",
    "# frequency: Business MonthEnd\n",
    "df = pd.date_range(start='2023-01-01',periods=10, freq='BM' )\n",
    "df"
   ]
  },
  {
   "cell_type": "code",
   "execution_count": 74,
   "id": "aefe0acf",
   "metadata": {},
   "outputs": [
    {
     "data": {
      "text/plain": [
       "DatetimeIndex(['2023-01-01', '2023-02-01', '2023-03-01', '2023-04-01',\n",
       "               '2023-05-01', '2023-06-01', '2023-07-01', '2023-08-01',\n",
       "               '2023-09-01', '2023-10-01'],\n",
       "              dtype='datetime64[ns]', freq='MS')"
      ]
     },
     "execution_count": 74,
     "metadata": {},
     "output_type": "execute_result"
    }
   ],
   "source": [
    "# Generatimg Date Ranges for n periods (days) with defined frequencies\n",
    "# frequency: Month Begin\n",
    "df = pd.date_range(start='2023-01-01',periods=10, freq='MS' )\n",
    "df"
   ]
  },
  {
   "cell_type": "code",
   "execution_count": 76,
   "id": "4bd52c59",
   "metadata": {},
   "outputs": [
    {
     "data": {
      "text/plain": [
       "DatetimeIndex(['2023-01-02', '2023-02-01', '2023-03-01', '2023-04-03',\n",
       "               '2023-05-01', '2023-06-01', '2023-07-03', '2023-08-01',\n",
       "               '2023-09-01', '2023-10-02'],\n",
       "              dtype='datetime64[ns]', freq='BMS')"
      ]
     },
     "execution_count": 76,
     "metadata": {},
     "output_type": "execute_result"
    }
   ],
   "source": [
    "# Generatimg Date Ranges for n periods (days) with defined frequencies\n",
    "# frequency: Business Month Begin\n",
    "df = pd.date_range(start='2023-01-01',periods=10, freq='BMS' )\n",
    "df"
   ]
  },
  {
   "cell_type": "code",
   "execution_count": 77,
   "id": "c7049e63",
   "metadata": {},
   "outputs": [
    {
     "data": {
      "text/plain": [
       "DatetimeIndex(['2023-01-03', '2023-01-10', '2023-01-17', '2023-01-24',\n",
       "               '2023-01-31', '2023-02-07', '2023-02-14', '2023-02-21',\n",
       "               '2023-02-28', '2023-03-07'],\n",
       "              dtype='datetime64[ns]', freq='W-TUE')"
      ]
     },
     "execution_count": 77,
     "metadata": {},
     "output_type": "execute_result"
    }
   ],
   "source": [
    "# Generatimg Date Ranges for n periods (days) with defined frequencies\n",
    "# frequency: Weekly on given day of week\n",
    "df = pd.date_range(start='2023-01-01',periods=10, freq='W-Tue' )\n",
    "df"
   ]
  },
  {
   "cell_type": "code",
   "execution_count": 78,
   "id": "4e5546e8",
   "metadata": {},
   "outputs": [
    {
     "data": {
      "text/plain": [
       "DatetimeIndex(['2023-01-13', '2023-02-10', '2023-03-10', '2023-04-14',\n",
       "               '2023-05-12', '2023-06-09', '2023-07-14', '2023-08-11',\n",
       "               '2023-09-08', '2023-10-13'],\n",
       "              dtype='datetime64[ns]', freq='WOM-2FRI')"
      ]
     },
     "execution_count": 78,
     "metadata": {},
     "output_type": "execute_result"
    }
   ],
   "source": [
    "# Generatimg Date Ranges for n periods (days) with defined frequencies\n",
    "# frequency: WeekOfMonth\n",
    "df = pd.date_range(start='2023-01-01',periods=10, freq='WOM-2FRI' )\n",
    "df"
   ]
  },
  {
   "cell_type": "code",
   "execution_count": 79,
   "id": "376a1647",
   "metadata": {},
   "outputs": [
    {
     "data": {
      "text/plain": [
       "DatetimeIndex(['2023-01-31', '2023-04-30', '2023-07-31', '2023-10-31',\n",
       "               '2024-01-31', '2024-04-30', '2024-07-31', '2024-10-31',\n",
       "               '2025-01-31', '2025-04-30'],\n",
       "              dtype='datetime64[ns]', freq='Q-JAN')"
      ]
     },
     "execution_count": 79,
     "metadata": {},
     "output_type": "execute_result"
    }
   ],
   "source": [
    "# Generatimg Date Ranges for n periods (days) with defined frequencies\n",
    "# frequency: Quarter End\n",
    "df = pd.date_range(start='2023-01-01',periods=10, freq='Q-JAN' )\n",
    "df"
   ]
  },
  {
   "cell_type": "code",
   "execution_count": 80,
   "id": "d60b4e17",
   "metadata": {},
   "outputs": [
    {
     "data": {
      "text/plain": [
       "DatetimeIndex(['2023-01-31', '2023-04-28', '2023-07-31', '2023-10-31',\n",
       "               '2024-01-31', '2024-04-30', '2024-07-31', '2024-10-31',\n",
       "               '2025-01-31', '2025-04-30'],\n",
       "              dtype='datetime64[ns]', freq='BQ-JAN')"
      ]
     },
     "execution_count": 80,
     "metadata": {},
     "output_type": "execute_result"
    }
   ],
   "source": [
    "# Generatimg Date Ranges for n periods (days) with defined frequencies\n",
    "# frequency: Business Quarter End\n",
    "df = pd.date_range(start='2023-01-01',periods=10, freq='BQ-JAN' )\n",
    "df"
   ]
  },
  {
   "cell_type": "code",
   "execution_count": 81,
   "id": "8b9f6aab",
   "metadata": {},
   "outputs": [
    {
     "data": {
      "text/plain": [
       "DatetimeIndex(['2023-01-01', '2023-04-01', '2023-07-01', '2023-10-01',\n",
       "               '2024-01-01', '2024-04-01', '2024-07-01', '2024-10-01',\n",
       "               '2025-01-01', '2025-04-01'],\n",
       "              dtype='datetime64[ns]', freq='QS-JAN')"
      ]
     },
     "execution_count": 81,
     "metadata": {},
     "output_type": "execute_result"
    }
   ],
   "source": [
    "# Generatimg Date Ranges for n periods (days) with defined frequencies\n",
    "# frequency: Quarter Begin\n",
    "df = pd.date_range(start='2023-01-01',periods=10, freq='QS-JAN' )\n",
    "df"
   ]
  },
  {
   "cell_type": "code",
   "execution_count": 83,
   "id": "eb63d185",
   "metadata": {},
   "outputs": [
    {
     "data": {
      "text/plain": [
       "DatetimeIndex(['2023-01-02', '2023-04-03', '2023-07-03', '2023-10-02',\n",
       "               '2024-01-01', '2024-04-01', '2024-07-01', '2024-10-01',\n",
       "               '2025-01-01', '2025-04-01'],\n",
       "              dtype='datetime64[ns]', freq='BQS-JAN')"
      ]
     },
     "execution_count": 83,
     "metadata": {},
     "output_type": "execute_result"
    }
   ],
   "source": [
    "# Generatimg Date Ranges for n periods (days) with defined frequencies\n",
    "# frequency: Business Quarter Begin\n",
    "df = pd.date_range(start='2023-01-01',periods=10, freq='BQS-JAN' )\n",
    "df"
   ]
  },
  {
   "cell_type": "code",
   "execution_count": 84,
   "id": "b32e89b9",
   "metadata": {},
   "outputs": [
    {
     "data": {
      "text/plain": [
       "DatetimeIndex(['2023-01-31', '2024-01-31', '2025-01-31', '2026-01-31',\n",
       "               '2027-01-31', '2028-01-31', '2029-01-31', '2030-01-31',\n",
       "               '2031-01-31', '2032-01-31'],\n",
       "              dtype='datetime64[ns]', freq='A-JAN')"
      ]
     },
     "execution_count": 84,
     "metadata": {},
     "output_type": "execute_result"
    }
   ],
   "source": [
    "# Generatimg Date Ranges for n periods (days) with defined frequencies\n",
    "# frequency: Year End\n",
    "df = pd.date_range(start='2023-01-01',periods=10, freq='A-JAN' )\n",
    "df"
   ]
  },
  {
   "cell_type": "code",
   "execution_count": 86,
   "id": "f9afed8a",
   "metadata": {},
   "outputs": [
    {
     "data": {
      "text/plain": [
       "DatetimeIndex(['2023-01-31', '2024-01-31', '2025-01-31', '2026-01-30',\n",
       "               '2027-01-29', '2028-01-31', '2029-01-31', '2030-01-31',\n",
       "               '2031-01-31', '2032-01-30'],\n",
       "              dtype='datetime64[ns]', freq='BA-JAN')"
      ]
     },
     "execution_count": 86,
     "metadata": {},
     "output_type": "execute_result"
    }
   ],
   "source": [
    "# Generatimg Date Ranges for n periods (days) with defined frequencies\n",
    "# frequency: Business Year End\n",
    "df = pd.date_range(start='2023-01-01',periods=10, freq='BA-JAN' )\n",
    "df"
   ]
  },
  {
   "cell_type": "code",
   "execution_count": 87,
   "id": "c4618030",
   "metadata": {},
   "outputs": [
    {
     "data": {
      "text/plain": [
       "DatetimeIndex(['2023-01-01', '2024-01-01', '2025-01-01', '2026-01-01',\n",
       "               '2027-01-01', '2028-01-01', '2029-01-01', '2030-01-01',\n",
       "               '2031-01-01', '2032-01-01'],\n",
       "              dtype='datetime64[ns]', freq='AS-JAN')"
      ]
     },
     "execution_count": 87,
     "metadata": {},
     "output_type": "execute_result"
    }
   ],
   "source": [
    "# Generatimg Date Ranges for n periods (days) with defined frequencies\n",
    "# frequency: Year Begin\n",
    "df = pd.date_range(start='2023-01-01',periods=10, freq='AS-JAN' )\n",
    "df"
   ]
  },
  {
   "cell_type": "code",
   "execution_count": 88,
   "id": "f59466b0",
   "metadata": {},
   "outputs": [
    {
     "data": {
      "text/plain": [
       "DatetimeIndex(['2023-01-02', '2024-01-01', '2025-01-01', '2026-01-01',\n",
       "               '2027-01-01', '2028-01-03', '2029-01-01', '2030-01-01',\n",
       "               '2031-01-01', '2032-01-01'],\n",
       "              dtype='datetime64[ns]', freq='BAS-JAN')"
      ]
     },
     "execution_count": 88,
     "metadata": {},
     "output_type": "execute_result"
    }
   ],
   "source": [
    "# Generatimg Date Ranges for n periods (days) with defined frequencies\n",
    "# frequency: Business Year Begin\n",
    "df = pd.date_range(start='2023-01-01',periods=10, freq='BAS-JAN' )\n",
    "df"
   ]
  },
  {
   "cell_type": "markdown",
   "id": "141c3602",
   "metadata": {},
   "source": [
    "**Sometimes you will have start or end dates with time information but want to generate a set of timestamps normalized to midnight as a convention. To do this, there is a normalize option**"
   ]
  },
  {
   "cell_type": "code",
   "execution_count": 91,
   "id": "9aea1ef2",
   "metadata": {},
   "outputs": [
    {
     "data": {
      "text/plain": [
       "DatetimeIndex(['2012-05-02', '2012-05-03', '2012-05-04', '2012-05-05',\n",
       "               '2012-05-06'],\n",
       "              dtype='datetime64[ns]', freq='D')"
      ]
     },
     "execution_count": 91,
     "metadata": {},
     "output_type": "execute_result"
    }
   ],
   "source": [
    "# Creating Normalized Data\n",
    "df=pd.date_range('2012-05-02 12:56:31', periods=5, normalize=True)\n",
    "df"
   ]
  },
  {
   "cell_type": "markdown",
   "id": "0580e815",
   "metadata": {},
   "source": [
    "**Frequencies**"
   ]
  },
  {
   "cell_type": "code",
   "execution_count": 92,
   "id": "9248db8b",
   "metadata": {},
   "outputs": [
    {
     "data": {
      "text/plain": [
       "DatetimeIndex(['2023-01-01 00:15:23', '2023-01-01 01:45:23',\n",
       "               '2023-01-01 03:15:23', '2023-01-01 04:45:23',\n",
       "               '2023-01-01 06:15:23', '2023-01-01 07:45:23',\n",
       "               '2023-01-01 09:15:23', '2023-01-01 10:45:23',\n",
       "               '2023-01-01 12:15:23', '2023-01-01 13:45:23'],\n",
       "              dtype='datetime64[ns]', freq='90T')"
      ]
     },
     "execution_count": 92,
     "metadata": {},
     "output_type": "execute_result"
    }
   ],
   "source": [
    "# Creating the data at the frequency of \"1 Hour 30 minutes\"\n",
    "df=pd.date_range('2023-01-01 00:15:23', periods=10, freq='1h30min')\n",
    "df"
   ]
  },
  {
   "cell_type": "code",
   "execution_count": 95,
   "id": "fec34012",
   "metadata": {},
   "outputs": [
    {
     "data": {
      "text/plain": [
       "DatetimeIndex(['2023-01-01 00:15:23', '2023-01-01 01:07:50',\n",
       "               '2023-01-01 02:00:17', '2023-01-01 02:52:44',\n",
       "               '2023-01-01 03:45:11', '2023-01-01 04:37:38',\n",
       "               '2023-01-01 05:30:05', '2023-01-01 06:22:32',\n",
       "               '2023-01-01 07:14:59', '2023-01-01 08:07:26'],\n",
       "              dtype='datetime64[ns]', freq='3147S')"
      ]
     },
     "execution_count": 95,
     "metadata": {},
     "output_type": "execute_result"
    }
   ],
   "source": [
    "# Creating the data at the frequency of \"52 minutes 27 seconds\"\n",
    "df=pd.date_range('2023-01-01 00:15:23', periods=10, freq='52min27s')\n",
    "df"
   ]
  },
  {
   "cell_type": "code",
   "execution_count": 96,
   "id": "21186c6b",
   "metadata": {},
   "outputs": [
    {
     "data": {
      "text/plain": [
       "DatetimeIndex(['2023-01-01 00:15:23', '2023-01-01 04:15:23',\n",
       "               '2023-01-01 08:15:23', '2023-01-01 12:15:23',\n",
       "               '2023-01-01 16:15:23', '2023-01-01 20:15:23',\n",
       "               '2023-01-02 00:15:23', '2023-01-02 04:15:23',\n",
       "               '2023-01-02 08:15:23', '2023-01-02 12:15:23'],\n",
       "              dtype='datetime64[ns]', freq='4H')"
      ]
     },
     "execution_count": 96,
     "metadata": {},
     "output_type": "execute_result"
    }
   ],
   "source": [
    "# Creating the data at the frequency of \"4 Hours\"\n",
    "df=pd.date_range('2023-01-01 00:15:23', periods=10, freq='4h')\n",
    "df"
   ]
  },
  {
   "cell_type": "code",
   "execution_count": 97,
   "id": "a613b877",
   "metadata": {},
   "outputs": [
    {
     "data": {
      "text/plain": [
       "DatetimeIndex(['2023-01-13 00:15:23', '2023-02-10 00:15:23',\n",
       "               '2023-03-10 00:15:23', '2023-04-14 00:15:23',\n",
       "               '2023-05-12 00:15:23', '2023-06-09 00:15:23',\n",
       "               '2023-07-14 00:15:23', '2023-08-11 00:15:23',\n",
       "               '2023-09-08 00:15:23', '2023-10-13 00:15:23'],\n",
       "              dtype='datetime64[ns]', freq='WOM-2FRI')"
      ]
     },
     "execution_count": 97,
     "metadata": {},
     "output_type": "execute_result"
    }
   ],
   "source": [
    "# Creating the data at the frequency of Week of Month 2nd Friday\n",
    "df=pd.date_range('2023-01-01 00:15:23', periods=10, freq='WOM-2FRI')\n",
    "df"
   ]
  },
  {
   "cell_type": "markdown",
   "id": "a16a62e8",
   "metadata": {},
   "source": [
    "**Shifting (Leading and Lagging) Data**"
   ]
  },
  {
   "cell_type": "code",
   "execution_count": 100,
   "id": "6cc45612",
   "metadata": {},
   "outputs": [
    {
     "name": "stdout",
     "output_type": "stream",
     "text": [
      "2023-01-01    2.443181\n",
      "2023-01-02    1.326219\n",
      "2023-01-03   -0.811141\n",
      "2023-01-04   -0.253462\n",
      "2023-01-05   -0.923018\n",
      "2023-01-06    0.180473\n",
      "2023-01-07   -1.117138\n",
      "2023-01-08    0.784072\n",
      "2023-01-09   -0.734389\n",
      "2023-01-10    0.778559\n",
      "Freq: D, dtype: float64\n",
      "2023-01-01         NaN\n",
      "2023-01-02         NaN\n",
      "2023-01-03         NaN\n",
      "2023-01-04    2.443181\n",
      "2023-01-05    1.326219\n",
      "2023-01-06   -0.811141\n",
      "2023-01-07   -0.253462\n",
      "2023-01-08   -0.923018\n",
      "2023-01-09    0.180473\n",
      "2023-01-10   -1.117138\n",
      "Freq: D, dtype: float64\n"
     ]
    }
   ],
   "source": [
    "# Creating a data set and attempting downward shifting by 3 values\n",
    "date=pd.date_range('2023-01-01', periods=10,freq='D')\n",
    "values = np.random.randn(10)\n",
    "data=pd.Series(values,index=date)\n",
    "print(data)\n",
    "print(data.shift(3))"
   ]
  },
  {
   "cell_type": "code",
   "execution_count": 101,
   "id": "c06e5ad8",
   "metadata": {},
   "outputs": [
    {
     "name": "stdout",
     "output_type": "stream",
     "text": [
      "2023-01-01    0.609443\n",
      "2023-01-02    0.234002\n",
      "2023-01-03   -1.021954\n",
      "2023-01-04    0.626717\n",
      "2023-01-05    0.256433\n",
      "2023-01-06    0.665354\n",
      "2023-01-07   -0.296114\n",
      "2023-01-08    1.182366\n",
      "2023-01-09   -0.359084\n",
      "2023-01-10   -0.313615\n",
      "Freq: D, dtype: float64\n",
      "2023-01-01    0.665354\n",
      "2023-01-02   -0.296114\n",
      "2023-01-03    1.182366\n",
      "2023-01-04   -0.359084\n",
      "2023-01-05   -0.313615\n",
      "2023-01-06         NaN\n",
      "2023-01-07         NaN\n",
      "2023-01-08         NaN\n",
      "2023-01-09         NaN\n",
      "2023-01-10         NaN\n",
      "Freq: D, dtype: float64\n"
     ]
    }
   ],
   "source": [
    "# Creating a data set and attempting downward shifting by 5 values\n",
    "date=pd.date_range('2023-01-01', periods=10,freq='D')\n",
    "values = np.random.randn(10)\n",
    "data=pd.Series(values,index=date)\n",
    "print(data)\n",
    "print(data.shift(-5))"
   ]
  },
  {
   "cell_type": "markdown",
   "id": "5b9aa160",
   "metadata": {},
   "source": [
    "**Time Zone Handling**"
   ]
  },
  {
   "cell_type": "code",
   "execution_count": 102,
   "id": "186ac52c",
   "metadata": {},
   "outputs": [],
   "source": [
    "# fetching required library for Time Zone Operations\n",
    "import pytz as tz"
   ]
  },
  {
   "cell_type": "code",
   "execution_count": 104,
   "id": "5a92e68b",
   "metadata": {},
   "outputs": [
    {
     "data": {
      "text/plain": [
       "['Africa/Abidjan',\n",
       " 'Africa/Accra',\n",
       " 'Africa/Addis_Ababa',\n",
       " 'Africa/Algiers',\n",
       " 'Africa/Asmara',\n",
       " 'Africa/Bamako',\n",
       " 'Africa/Bangui',\n",
       " 'Africa/Banjul',\n",
       " 'Africa/Bissau',\n",
       " 'Africa/Blantyre',\n",
       " 'Africa/Brazzaville',\n",
       " 'Africa/Bujumbura',\n",
       " 'Africa/Cairo',\n",
       " 'Africa/Casablanca',\n",
       " 'Africa/Ceuta',\n",
       " 'Africa/Conakry',\n",
       " 'Africa/Dakar',\n",
       " 'Africa/Dar_es_Salaam',\n",
       " 'Africa/Djibouti',\n",
       " 'Africa/Douala',\n",
       " 'Africa/El_Aaiun',\n",
       " 'Africa/Freetown',\n",
       " 'Africa/Gaborone',\n",
       " 'Africa/Harare',\n",
       " 'Africa/Johannesburg',\n",
       " 'Africa/Juba',\n",
       " 'Africa/Kampala',\n",
       " 'Africa/Khartoum',\n",
       " 'Africa/Kigali',\n",
       " 'Africa/Kinshasa',\n",
       " 'Africa/Lagos',\n",
       " 'Africa/Libreville',\n",
       " 'Africa/Lome',\n",
       " 'Africa/Luanda',\n",
       " 'Africa/Lubumbashi',\n",
       " 'Africa/Lusaka',\n",
       " 'Africa/Malabo',\n",
       " 'Africa/Maputo',\n",
       " 'Africa/Maseru',\n",
       " 'Africa/Mbabane',\n",
       " 'Africa/Mogadishu',\n",
       " 'Africa/Monrovia',\n",
       " 'Africa/Nairobi',\n",
       " 'Africa/Ndjamena',\n",
       " 'Africa/Niamey',\n",
       " 'Africa/Nouakchott',\n",
       " 'Africa/Ouagadougou',\n",
       " 'Africa/Porto-Novo',\n",
       " 'Africa/Sao_Tome',\n",
       " 'Africa/Tripoli',\n",
       " 'Africa/Tunis',\n",
       " 'Africa/Windhoek',\n",
       " 'America/Adak',\n",
       " 'America/Anchorage',\n",
       " 'America/Anguilla',\n",
       " 'America/Antigua',\n",
       " 'America/Araguaina',\n",
       " 'America/Argentina/Buenos_Aires',\n",
       " 'America/Argentina/Catamarca',\n",
       " 'America/Argentina/Cordoba',\n",
       " 'America/Argentina/Jujuy',\n",
       " 'America/Argentina/La_Rioja',\n",
       " 'America/Argentina/Mendoza',\n",
       " 'America/Argentina/Rio_Gallegos',\n",
       " 'America/Argentina/Salta',\n",
       " 'America/Argentina/San_Juan',\n",
       " 'America/Argentina/San_Luis',\n",
       " 'America/Argentina/Tucuman',\n",
       " 'America/Argentina/Ushuaia',\n",
       " 'America/Aruba',\n",
       " 'America/Asuncion',\n",
       " 'America/Atikokan',\n",
       " 'America/Bahia',\n",
       " 'America/Bahia_Banderas',\n",
       " 'America/Barbados',\n",
       " 'America/Belem',\n",
       " 'America/Belize',\n",
       " 'America/Blanc-Sablon',\n",
       " 'America/Boa_Vista',\n",
       " 'America/Bogota',\n",
       " 'America/Boise',\n",
       " 'America/Cambridge_Bay',\n",
       " 'America/Campo_Grande',\n",
       " 'America/Cancun',\n",
       " 'America/Caracas',\n",
       " 'America/Cayenne',\n",
       " 'America/Cayman',\n",
       " 'America/Chicago',\n",
       " 'America/Chihuahua',\n",
       " 'America/Ciudad_Juarez',\n",
       " 'America/Costa_Rica',\n",
       " 'America/Creston',\n",
       " 'America/Cuiaba',\n",
       " 'America/Curacao',\n",
       " 'America/Danmarkshavn',\n",
       " 'America/Dawson',\n",
       " 'America/Dawson_Creek',\n",
       " 'America/Denver',\n",
       " 'America/Detroit',\n",
       " 'America/Dominica',\n",
       " 'America/Edmonton',\n",
       " 'America/Eirunepe',\n",
       " 'America/El_Salvador',\n",
       " 'America/Fort_Nelson',\n",
       " 'America/Fortaleza',\n",
       " 'America/Glace_Bay',\n",
       " 'America/Goose_Bay',\n",
       " 'America/Grand_Turk',\n",
       " 'America/Grenada',\n",
       " 'America/Guadeloupe',\n",
       " 'America/Guatemala',\n",
       " 'America/Guayaquil',\n",
       " 'America/Guyana',\n",
       " 'America/Halifax',\n",
       " 'America/Havana',\n",
       " 'America/Hermosillo',\n",
       " 'America/Indiana/Indianapolis',\n",
       " 'America/Indiana/Knox',\n",
       " 'America/Indiana/Marengo',\n",
       " 'America/Indiana/Petersburg',\n",
       " 'America/Indiana/Tell_City',\n",
       " 'America/Indiana/Vevay',\n",
       " 'America/Indiana/Vincennes',\n",
       " 'America/Indiana/Winamac',\n",
       " 'America/Inuvik',\n",
       " 'America/Iqaluit',\n",
       " 'America/Jamaica',\n",
       " 'America/Juneau',\n",
       " 'America/Kentucky/Louisville',\n",
       " 'America/Kentucky/Monticello',\n",
       " 'America/Kralendijk',\n",
       " 'America/La_Paz',\n",
       " 'America/Lima',\n",
       " 'America/Los_Angeles',\n",
       " 'America/Lower_Princes',\n",
       " 'America/Maceio',\n",
       " 'America/Managua',\n",
       " 'America/Manaus',\n",
       " 'America/Marigot',\n",
       " 'America/Martinique',\n",
       " 'America/Matamoros',\n",
       " 'America/Mazatlan',\n",
       " 'America/Menominee',\n",
       " 'America/Merida',\n",
       " 'America/Metlakatla',\n",
       " 'America/Mexico_City',\n",
       " 'America/Miquelon',\n",
       " 'America/Moncton',\n",
       " 'America/Monterrey',\n",
       " 'America/Montevideo',\n",
       " 'America/Montserrat',\n",
       " 'America/Nassau',\n",
       " 'America/New_York',\n",
       " 'America/Nome',\n",
       " 'America/Noronha',\n",
       " 'America/North_Dakota/Beulah',\n",
       " 'America/North_Dakota/Center',\n",
       " 'America/North_Dakota/New_Salem',\n",
       " 'America/Nuuk',\n",
       " 'America/Ojinaga',\n",
       " 'America/Panama',\n",
       " 'America/Paramaribo',\n",
       " 'America/Phoenix',\n",
       " 'America/Port-au-Prince',\n",
       " 'America/Port_of_Spain',\n",
       " 'America/Porto_Velho',\n",
       " 'America/Puerto_Rico',\n",
       " 'America/Punta_Arenas',\n",
       " 'America/Rankin_Inlet',\n",
       " 'America/Recife',\n",
       " 'America/Regina',\n",
       " 'America/Resolute',\n",
       " 'America/Rio_Branco',\n",
       " 'America/Santarem',\n",
       " 'America/Santiago',\n",
       " 'America/Santo_Domingo',\n",
       " 'America/Sao_Paulo',\n",
       " 'America/Scoresbysund',\n",
       " 'America/Sitka',\n",
       " 'America/St_Barthelemy',\n",
       " 'America/St_Johns',\n",
       " 'America/St_Kitts',\n",
       " 'America/St_Lucia',\n",
       " 'America/St_Thomas',\n",
       " 'America/St_Vincent',\n",
       " 'America/Swift_Current',\n",
       " 'America/Tegucigalpa',\n",
       " 'America/Thule',\n",
       " 'America/Tijuana',\n",
       " 'America/Toronto',\n",
       " 'America/Tortola',\n",
       " 'America/Vancouver',\n",
       " 'America/Whitehorse',\n",
       " 'America/Winnipeg',\n",
       " 'America/Yakutat',\n",
       " 'America/Yellowknife',\n",
       " 'Antarctica/Casey',\n",
       " 'Antarctica/Davis',\n",
       " 'Antarctica/DumontDUrville',\n",
       " 'Antarctica/Macquarie',\n",
       " 'Antarctica/Mawson',\n",
       " 'Antarctica/McMurdo',\n",
       " 'Antarctica/Palmer',\n",
       " 'Antarctica/Rothera',\n",
       " 'Antarctica/Syowa',\n",
       " 'Antarctica/Troll',\n",
       " 'Antarctica/Vostok',\n",
       " 'Arctic/Longyearbyen',\n",
       " 'Asia/Aden',\n",
       " 'Asia/Almaty',\n",
       " 'Asia/Amman',\n",
       " 'Asia/Anadyr',\n",
       " 'Asia/Aqtau',\n",
       " 'Asia/Aqtobe',\n",
       " 'Asia/Ashgabat',\n",
       " 'Asia/Atyrau',\n",
       " 'Asia/Baghdad',\n",
       " 'Asia/Bahrain',\n",
       " 'Asia/Baku',\n",
       " 'Asia/Bangkok',\n",
       " 'Asia/Barnaul',\n",
       " 'Asia/Beirut',\n",
       " 'Asia/Bishkek',\n",
       " 'Asia/Brunei',\n",
       " 'Asia/Chita',\n",
       " 'Asia/Choibalsan',\n",
       " 'Asia/Colombo',\n",
       " 'Asia/Damascus',\n",
       " 'Asia/Dhaka',\n",
       " 'Asia/Dili',\n",
       " 'Asia/Dubai',\n",
       " 'Asia/Dushanbe',\n",
       " 'Asia/Famagusta',\n",
       " 'Asia/Gaza',\n",
       " 'Asia/Hebron',\n",
       " 'Asia/Ho_Chi_Minh',\n",
       " 'Asia/Hong_Kong',\n",
       " 'Asia/Hovd',\n",
       " 'Asia/Irkutsk',\n",
       " 'Asia/Jakarta',\n",
       " 'Asia/Jayapura',\n",
       " 'Asia/Jerusalem',\n",
       " 'Asia/Kabul',\n",
       " 'Asia/Kamchatka',\n",
       " 'Asia/Karachi',\n",
       " 'Asia/Kathmandu',\n",
       " 'Asia/Khandyga',\n",
       " 'Asia/Kolkata',\n",
       " 'Asia/Krasnoyarsk',\n",
       " 'Asia/Kuala_Lumpur',\n",
       " 'Asia/Kuching',\n",
       " 'Asia/Kuwait',\n",
       " 'Asia/Macau',\n",
       " 'Asia/Magadan',\n",
       " 'Asia/Makassar',\n",
       " 'Asia/Manila',\n",
       " 'Asia/Muscat',\n",
       " 'Asia/Nicosia',\n",
       " 'Asia/Novokuznetsk',\n",
       " 'Asia/Novosibirsk',\n",
       " 'Asia/Omsk',\n",
       " 'Asia/Oral',\n",
       " 'Asia/Phnom_Penh',\n",
       " 'Asia/Pontianak',\n",
       " 'Asia/Pyongyang',\n",
       " 'Asia/Qatar',\n",
       " 'Asia/Qostanay',\n",
       " 'Asia/Qyzylorda',\n",
       " 'Asia/Riyadh',\n",
       " 'Asia/Sakhalin',\n",
       " 'Asia/Samarkand',\n",
       " 'Asia/Seoul',\n",
       " 'Asia/Shanghai',\n",
       " 'Asia/Singapore',\n",
       " 'Asia/Srednekolymsk',\n",
       " 'Asia/Taipei',\n",
       " 'Asia/Tashkent',\n",
       " 'Asia/Tbilisi',\n",
       " 'Asia/Tehran',\n",
       " 'Asia/Thimphu',\n",
       " 'Asia/Tokyo',\n",
       " 'Asia/Tomsk',\n",
       " 'Asia/Ulaanbaatar',\n",
       " 'Asia/Urumqi',\n",
       " 'Asia/Ust-Nera',\n",
       " 'Asia/Vientiane',\n",
       " 'Asia/Vladivostok',\n",
       " 'Asia/Yakutsk',\n",
       " 'Asia/Yangon',\n",
       " 'Asia/Yekaterinburg',\n",
       " 'Asia/Yerevan',\n",
       " 'Atlantic/Azores',\n",
       " 'Atlantic/Bermuda',\n",
       " 'Atlantic/Canary',\n",
       " 'Atlantic/Cape_Verde',\n",
       " 'Atlantic/Faroe',\n",
       " 'Atlantic/Madeira',\n",
       " 'Atlantic/Reykjavik',\n",
       " 'Atlantic/South_Georgia',\n",
       " 'Atlantic/St_Helena',\n",
       " 'Atlantic/Stanley',\n",
       " 'Australia/Adelaide',\n",
       " 'Australia/Brisbane',\n",
       " 'Australia/Broken_Hill',\n",
       " 'Australia/Darwin',\n",
       " 'Australia/Eucla',\n",
       " 'Australia/Hobart',\n",
       " 'Australia/Lindeman',\n",
       " 'Australia/Lord_Howe',\n",
       " 'Australia/Melbourne',\n",
       " 'Australia/Perth',\n",
       " 'Australia/Sydney',\n",
       " 'Canada/Atlantic',\n",
       " 'Canada/Central',\n",
       " 'Canada/Eastern',\n",
       " 'Canada/Mountain',\n",
       " 'Canada/Newfoundland',\n",
       " 'Canada/Pacific',\n",
       " 'Europe/Amsterdam',\n",
       " 'Europe/Andorra',\n",
       " 'Europe/Astrakhan',\n",
       " 'Europe/Athens',\n",
       " 'Europe/Belgrade',\n",
       " 'Europe/Berlin',\n",
       " 'Europe/Bratislava',\n",
       " 'Europe/Brussels',\n",
       " 'Europe/Bucharest',\n",
       " 'Europe/Budapest',\n",
       " 'Europe/Busingen',\n",
       " 'Europe/Chisinau',\n",
       " 'Europe/Copenhagen',\n",
       " 'Europe/Dublin',\n",
       " 'Europe/Gibraltar',\n",
       " 'Europe/Guernsey',\n",
       " 'Europe/Helsinki',\n",
       " 'Europe/Isle_of_Man',\n",
       " 'Europe/Istanbul',\n",
       " 'Europe/Jersey',\n",
       " 'Europe/Kaliningrad',\n",
       " 'Europe/Kirov',\n",
       " 'Europe/Kyiv',\n",
       " 'Europe/Lisbon',\n",
       " 'Europe/Ljubljana',\n",
       " 'Europe/London',\n",
       " 'Europe/Luxembourg',\n",
       " 'Europe/Madrid',\n",
       " 'Europe/Malta',\n",
       " 'Europe/Mariehamn',\n",
       " 'Europe/Minsk',\n",
       " 'Europe/Monaco',\n",
       " 'Europe/Moscow',\n",
       " 'Europe/Oslo',\n",
       " 'Europe/Paris',\n",
       " 'Europe/Podgorica',\n",
       " 'Europe/Prague',\n",
       " 'Europe/Riga',\n",
       " 'Europe/Rome',\n",
       " 'Europe/Samara',\n",
       " 'Europe/San_Marino',\n",
       " 'Europe/Sarajevo',\n",
       " 'Europe/Saratov',\n",
       " 'Europe/Simferopol',\n",
       " 'Europe/Skopje',\n",
       " 'Europe/Sofia',\n",
       " 'Europe/Stockholm',\n",
       " 'Europe/Tallinn',\n",
       " 'Europe/Tirane',\n",
       " 'Europe/Ulyanovsk',\n",
       " 'Europe/Vaduz',\n",
       " 'Europe/Vatican',\n",
       " 'Europe/Vienna',\n",
       " 'Europe/Vilnius',\n",
       " 'Europe/Volgograd',\n",
       " 'Europe/Warsaw',\n",
       " 'Europe/Zagreb',\n",
       " 'Europe/Zurich',\n",
       " 'GMT',\n",
       " 'Indian/Antananarivo',\n",
       " 'Indian/Chagos',\n",
       " 'Indian/Christmas',\n",
       " 'Indian/Cocos',\n",
       " 'Indian/Comoro',\n",
       " 'Indian/Kerguelen',\n",
       " 'Indian/Mahe',\n",
       " 'Indian/Maldives',\n",
       " 'Indian/Mauritius',\n",
       " 'Indian/Mayotte',\n",
       " 'Indian/Reunion',\n",
       " 'Pacific/Apia',\n",
       " 'Pacific/Auckland',\n",
       " 'Pacific/Bougainville',\n",
       " 'Pacific/Chatham',\n",
       " 'Pacific/Chuuk',\n",
       " 'Pacific/Easter',\n",
       " 'Pacific/Efate',\n",
       " 'Pacific/Fakaofo',\n",
       " 'Pacific/Fiji',\n",
       " 'Pacific/Funafuti',\n",
       " 'Pacific/Galapagos',\n",
       " 'Pacific/Gambier',\n",
       " 'Pacific/Guadalcanal',\n",
       " 'Pacific/Guam',\n",
       " 'Pacific/Honolulu',\n",
       " 'Pacific/Kanton',\n",
       " 'Pacific/Kiritimati',\n",
       " 'Pacific/Kosrae',\n",
       " 'Pacific/Kwajalein',\n",
       " 'Pacific/Majuro',\n",
       " 'Pacific/Marquesas',\n",
       " 'Pacific/Midway',\n",
       " 'Pacific/Nauru',\n",
       " 'Pacific/Niue',\n",
       " 'Pacific/Norfolk',\n",
       " 'Pacific/Noumea',\n",
       " 'Pacific/Pago_Pago',\n",
       " 'Pacific/Palau',\n",
       " 'Pacific/Pitcairn',\n",
       " 'Pacific/Pohnpei',\n",
       " 'Pacific/Port_Moresby',\n",
       " 'Pacific/Rarotonga',\n",
       " 'Pacific/Saipan',\n",
       " 'Pacific/Tahiti',\n",
       " 'Pacific/Tarawa',\n",
       " 'Pacific/Tongatapu',\n",
       " 'Pacific/Wake',\n",
       " 'Pacific/Wallis',\n",
       " 'US/Alaska',\n",
       " 'US/Arizona',\n",
       " 'US/Central',\n",
       " 'US/Eastern',\n",
       " 'US/Hawaii',\n",
       " 'US/Mountain',\n",
       " 'US/Pacific',\n",
       " 'UTC']"
      ]
     },
     "execution_count": 104,
     "metadata": {},
     "output_type": "execute_result"
    }
   ],
   "source": [
    "# checking available common timezones to play with\n",
    "tz.common_timezones[:]"
   ]
  },
  {
   "cell_type": "code",
   "execution_count": 111,
   "id": "d3611f2b",
   "metadata": {},
   "outputs": [
    {
     "data": {
      "text/plain": [
       "<DstTzInfo 'Asia/Kolkata' LMT+5:53:00 STD>"
      ]
     },
     "execution_count": 111,
     "metadata": {},
     "output_type": "execute_result"
    }
   ],
   "source": [
    "# checking the current timezone and relation with UTC/GMT\n",
    "timezone=tz.timezone('Asia/Kolkata')\n",
    "timezone"
   ]
  },
  {
   "cell_type": "code",
   "execution_count": 115,
   "id": "53fca453",
   "metadata": {},
   "outputs": [
    {
     "data": {
      "text/plain": [
       "2023-01-01 05:00:12+00:00    0.101110\n",
       "2023-01-02 05:00:12+00:00    1.033769\n",
       "2023-01-03 05:00:12+00:00   -0.018678\n",
       "2023-01-04 05:00:12+00:00   -0.750020\n",
       "2023-01-05 05:00:12+00:00   -1.095377\n",
       "2023-01-06 05:00:12+00:00    0.021985\n",
       "2023-01-07 05:00:12+00:00    1.086440\n",
       "2023-01-08 05:00:12+00:00   -0.026534\n",
       "2023-01-09 05:00:12+00:00   -1.354494\n",
       "2023-01-10 05:00:12+00:00   -2.665464\n",
       "Freq: D, dtype: float64"
      ]
     },
     "execution_count": 115,
     "metadata": {},
     "output_type": "execute_result"
    }
   ],
   "source": [
    "# Generating Date Ranges with setting the Time Zones as UTC\n",
    "values = np.random.randn(10)\n",
    "dates = pd.date_range('2023-01-01 05:00:12',periods=10, freq='D', tz='UTC')\n",
    "data=pd.Series(values, index=dates)\n",
    "data"
   ]
  },
  {
   "cell_type": "code",
   "execution_count": 119,
   "id": "3ea2023f",
   "metadata": {},
   "outputs": [
    {
     "data": {
      "text/plain": [
       "2023-01-01 10:30:12+05:30    0.101110\n",
       "2023-01-02 10:30:12+05:30    1.033769\n",
       "2023-01-03 10:30:12+05:30   -0.018678\n",
       "2023-01-04 10:30:12+05:30   -0.750020\n",
       "2023-01-05 10:30:12+05:30   -1.095377\n",
       "2023-01-06 10:30:12+05:30    0.021985\n",
       "2023-01-07 10:30:12+05:30    1.086440\n",
       "2023-01-08 10:30:12+05:30   -0.026534\n",
       "2023-01-09 10:30:12+05:30   -1.354494\n",
       "2023-01-10 10:30:12+05:30   -2.665464\n",
       "Freq: D, dtype: float64"
      ]
     },
     "execution_count": 119,
     "metadata": {},
     "output_type": "execute_result"
    }
   ],
   "source": [
    "# Convert the Time Zone to Asia/Kolkata\n",
    "data=data.tz_convert('Asia/Kolkata')\n",
    "data"
   ]
  },
  {
   "cell_type": "markdown",
   "id": "449e4b0c",
   "metadata": {},
   "source": [
    "**Periods and Period Arithmetic**"
   ]
  },
  {
   "cell_type": "code",
   "execution_count": 122,
   "id": "1e2fa1a0",
   "metadata": {},
   "outputs": [
    {
     "data": {
      "text/plain": [
       "Period('2022', 'A-DEC')"
      ]
     },
     "execution_count": 122,
     "metadata": {},
     "output_type": "execute_result"
    }
   ],
   "source": [
    "# creating a period\n",
    "p=pd.Period(2022,freq='A-DEC')\n",
    "p"
   ]
  },
  {
   "cell_type": "code",
   "execution_count": 125,
   "id": "7ee7fc42",
   "metadata": {},
   "outputs": [
    {
     "name": "stdout",
     "output_type": "stream",
     "text": [
      "2027\n",
      "2020\n",
      "<12 * YearEnds: month=12>\n"
     ]
    }
   ],
   "source": [
    "# Period Arithmetics\n",
    "print(p+5)\n",
    "print(p-2)\n",
    "print(pd.Period(2034,freq='A-DEC')-p)"
   ]
  },
  {
   "cell_type": "markdown",
   "id": "07527430",
   "metadata": {},
   "source": [
    "**Period Frequency Conversion**"
   ]
  },
  {
   "cell_type": "code",
   "execution_count": 126,
   "id": "b4d45855",
   "metadata": {},
   "outputs": [
    {
     "data": {
      "text/plain": [
       "Period('2007', 'A-DEC')"
      ]
     },
     "execution_count": 126,
     "metadata": {},
     "output_type": "execute_result"
    }
   ],
   "source": [
    "# Creating a period\n",
    "p=pd.Period(2007, freq='A-DEC')\n",
    "p"
   ]
  },
  {
   "cell_type": "code",
   "execution_count": 127,
   "id": "15680f37",
   "metadata": {},
   "outputs": [
    {
     "data": {
      "text/plain": [
       "Period('2007-01', 'M')"
      ]
     },
     "execution_count": 127,
     "metadata": {},
     "output_type": "execute_result"
    }
   ],
   "source": [
    "# Converting the period frequency to start of the year\n",
    "p.asfreq('M', how='start')"
   ]
  },
  {
   "cell_type": "code",
   "execution_count": 128,
   "id": "85816109",
   "metadata": {},
   "outputs": [
    {
     "data": {
      "text/plain": [
       "Period('2007-12', 'M')"
      ]
     },
     "execution_count": 128,
     "metadata": {},
     "output_type": "execute_result"
    }
   ],
   "source": [
    "# Converting the period frequency to end of the year\n",
    "p.asfreq('M', how='end')"
   ]
  },
  {
   "cell_type": "code",
   "execution_count": 129,
   "id": "ea08c9db",
   "metadata": {},
   "outputs": [
    {
     "data": {
      "text/plain": [
       "Period('2008', 'A-JUN')"
      ]
     },
     "execution_count": 129,
     "metadata": {},
     "output_type": "execute_result"
    }
   ],
   "source": [
    "# Converting the period frequency to A-JUN\n",
    "p.asfreq('A-JUN')"
   ]
  },
  {
   "cell_type": "code",
   "execution_count": 136,
   "id": "334d8e82",
   "metadata": {},
   "outputs": [
    {
     "data": {
      "text/plain": [
       "PeriodIndex(['2022-01'], dtype='period[M]')"
      ]
     },
     "execution_count": 136,
     "metadata": {},
     "output_type": "execute_result"
    }
   ],
   "source": [
    "# Converting Timestamp to Period Month\n",
    "p=pd.date_range('1/1/2022',periods=1)\n",
    "p.to_period('M')"
   ]
  },
  {
   "cell_type": "code",
   "execution_count": 137,
   "id": "9f83b719",
   "metadata": {},
   "outputs": [
    {
     "data": {
      "text/plain": [
       "PeriodIndex(['2022'], dtype='period[A-JUN]')"
      ]
     },
     "execution_count": 137,
     "metadata": {},
     "output_type": "execute_result"
    }
   ],
   "source": [
    "# Converting Timestamp to Period A-JUN\n",
    "p=pd.date_range('1/1/2022',periods=1)\n",
    "p.to_period('A-JUN')"
   ]
  },
  {
   "cell_type": "code",
   "execution_count": 139,
   "id": "0d1f9444",
   "metadata": {},
   "outputs": [
    {
     "data": {
      "text/plain": [
       "DatetimeIndex(['2022-01-01'], dtype='datetime64[ns]', freq=None)"
      ]
     },
     "execution_count": 139,
     "metadata": {},
     "output_type": "execute_result"
    }
   ],
   "source": [
    "#Converting period to Timestamp\n",
    "pd=p.to_period('M')\n",
    "ts=pd.to_timestamp(how='start')\n",
    "ts"
   ]
  },
  {
   "cell_type": "code",
   "execution_count": null,
   "id": "56f7b9b1",
   "metadata": {},
   "outputs": [],
   "source": []
  }
 ],
 "metadata": {
  "kernelspec": {
   "display_name": "Python 3 (ipykernel)",
   "language": "python",
   "name": "python3"
  },
  "language_info": {
   "codemirror_mode": {
    "name": "ipython",
    "version": 3
   },
   "file_extension": ".py",
   "mimetype": "text/x-python",
   "name": "python",
   "nbconvert_exporter": "python",
   "pygments_lexer": "ipython3",
   "version": "3.9.12"
  }
 },
 "nbformat": 4,
 "nbformat_minor": 5
}
